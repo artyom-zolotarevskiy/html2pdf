{
 "cells": [
  {
   "cell_type": "code",
   "execution_count": null,
   "id": "3f4167b8",
   "metadata": {},
   "outputs": [],
   "source": [
    "!pip install selenium"
   ]
  },
  {
   "cell_type": "code",
   "execution_count": null,
   "id": "e8878cf0",
   "metadata": {},
   "outputs": [],
   "source": [
    "!pip install webdriver_manager"
   ]
  },
  {
   "cell_type": "code",
   "execution_count": null,
   "id": "3749da9b",
   "metadata": {},
   "outputs": [],
   "source": [
    "!pip install PyPDF2"
   ]
  },
  {
   "cell_type": "code",
   "execution_count": null,
   "id": "d3a1c4cf",
   "metadata": {},
   "outputs": [],
   "source": [
    "import os\n",
    "import json\n",
    "import time\n",
    "import base64\n",
    "import PyPDF2\n",
    "import io\n",
    "from selenium import webdriver\n",
    "from selenium.webdriver.chrome.service import Service\n",
    "from selenium.webdriver.common.by import By\n",
    "from selenium.webdriver.support.ui import WebDriverWait\n",
    "from selenium.webdriver.support import expected_conditions as ec\n",
    "from webdriver_manager.chrome import ChromeDriverManager"
   ]
  },
  {
   "cell_type": "code",
   "execution_count": null,
   "id": "3c292d07",
   "metadata": {},
   "outputs": [],
   "source": [
    "# путь к папке с html файлами\n",
    "source = os.path.join(os.getcwd(), 'html_variants')\n",
    "# путь к папке для сохранения результатов\n",
    "output = os.path.join(os.getcwd(), 'pdf_variants')\n",
    "# шаг, с которым мы подбираем масштаб страницы\n",
    "scale_step = 0.025"
   ]
  },
  {
   "cell_type": "code",
   "execution_count": null,
   "id": "fcabda4e",
   "metadata": {},
   "outputs": [],
   "source": [
    "def send_devtools(driver, cmd, params={}):\n",
    "    resource = \"/session/%s/chromium/send_command_and_get_result\" % driver.session_id\n",
    "    url = driver.command_executor._url + resource\n",
    "    body = json.dumps({'cmd': cmd, 'params': params})\n",
    "    response = driver.command_executor._request('POST', url, body)\n",
    "    if response.get('status'):\n",
    "        raise Exception(response.get('value'))\n",
    "    return response.get('value')\n",
    "\n",
    "def latex_is_loaded(arg):\n",
    "    state = driver.execute_script('return window.latexIsLoaded;')\n",
    "    #print('latex_state=%s' % state)\n",
    "    return state == True"
   ]
  },
  {
   "cell_type": "code",
   "execution_count": null,
   "id": "2acdcb78",
   "metadata": {},
   "outputs": [],
   "source": [
    "chrome_options = webdriver.ChromeOptions()\n",
    "chrome_options.add_argument('--headless')\n",
    "chrome_options.add_argument('--disable-gpu')\n",
    "\n",
    "driver = webdriver.Chrome(service=Service(ChromeDriverManager().install()), options=chrome_options)\n",
    "\n",
    "for root, dirs, files in os.walk(source):\n",
    "    for filename in files:\n",
    "        if not filename.endswith(\".html\"):\n",
    "            continue\n",
    "            \n",
    "        # открываем html файл\n",
    "        print('Открываем файл:', filename)\n",
    "        driver.get(f'file://{os.path.join(os.getcwd(), root, filename)}')\n",
    "        \n",
    "        print('Дожидаемся полной инициализации...')\n",
    "        \n",
    "        # дожидаемся загрузки страницы\n",
    "        element = WebDriverWait(driver, 10).until(ec.presence_of_element_located((By.TAG_NAME, 'html')))\n",
    "        \n",
    "        # дожидаемся полной инициализации LaTex на странице\n",
    "        driver.execute_script('window.latexIsLoaded = false;')\n",
    "        driver.execute_script('window.MathJax.Hub.Register.StartupHook(\"End\",function () { window.latexIsLoaded = true; });')\n",
    "        WebDriverWait(driver, 10).until(latex_is_loaded)\n",
    "        \n",
    "        # получаем pdf\n",
    "        \n",
    "        last_num_pages = -1\n",
    "        last_pdf_file = None\n",
    "            \n",
    "        print_options = {\n",
    "            'scale': 1,\n",
    "        }\n",
    "        \n",
    "        print('Подбираем коэффициент масштабирования...')\n",
    "        while 0 < print_options['scale'] < 2:\n",
    "            result = send_devtools(driver, \"Page.printToPDF\", print_options)\n",
    "            result = base64.b64decode(result['data'])\n",
    "\n",
    "            pdf_file = io.BytesIO(result)\n",
    "            pdf_reader = PyPDF2.PdfFileReader(pdf_file)\n",
    "            num_pages = pdf_reader.numPages\n",
    "            #print('При масштабировании {} кол-во страниц: {}'.format(print_options['scale'], num_pages))\n",
    "            \n",
    "            if last_num_pages > 1 and num_pages == 1:\n",
    "                break\n",
    "            elif last_num_pages == 1 and num_pages == 2:\n",
    "                result = last_pdf_file\n",
    "                break\n",
    "            elif num_pages == 1:\n",
    "                print_options['scale'] += scale_step\n",
    "            else:\n",
    "                print_options['scale'] -= scale_step\n",
    "                  \n",
    "            last_num_pages = num_pages\n",
    "            last_pdf_file = result\n",
    "        \n",
    "        \n",
    "        # сохраняем pdf\n",
    "        print('Сохраняем файл...', '\\n')\n",
    "        with open(os.path.join(output, os.path.splitext(filename)[0] + '.pdf'), 'wb') as file:\n",
    "            file.write(result)\n",
    "        \n",
    "driver.close()\n",
    "print('Готово!')"
   ]
  }
 ],
 "metadata": {
  "kernelspec": {
   "display_name": "Python 3 (ipykernel)",
   "language": "python",
   "name": "python3"
  },
  "language_info": {
   "codemirror_mode": {
    "name": "ipython",
    "version": 3
   },
   "file_extension": ".py",
   "mimetype": "text/x-python",
   "name": "python",
   "nbconvert_exporter": "python",
   "pygments_lexer": "ipython3",
   "version": "3.9.7"
  }
 },
 "nbformat": 4,
 "nbformat_minor": 5
}
