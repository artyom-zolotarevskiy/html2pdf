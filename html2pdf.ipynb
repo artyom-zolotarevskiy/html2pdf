{
 "cells": [
  {
   "cell_type": "code",
   "execution_count": null,
   "id": "3f4167b8",
   "metadata": {},
   "outputs": [],
   "source": [
    "!pip install selenium"
   ]
  },
  {
   "cell_type": "code",
   "execution_count": null,
   "id": "d3a1c4cf",
   "metadata": {},
   "outputs": [],
   "source": [
    "import os\n",
    "from selenium import webdriver\n",
    "import json\n",
    "import time"
   ]
  },
  {
   "cell_type": "code",
   "execution_count": null,
   "id": "3c292d07",
   "metadata": {},
   "outputs": [],
   "source": [
    "# путь к chromedriver\n",
    "chromedriver_path = os.path.join(os.getcwd(), 'chromedriver')\n",
    "# путь к папке с html файлами\n",
    "source = os.path.join(os.getcwd(), 'html_variants')\n",
    "# путь к папке для сохранения результатов\n",
    "output = os.path.join(os.getcwd(), 'pdf_variants')\n",
    "# коэфициент масштабирования файла при печати\n",
    "scale = 115\n",
    "# интервал задержки в сек., позволяющий файлу полностью отрисоваться в браузере\n",
    "sleep = 3"
   ]
  },
  {
   "cell_type": "code",
   "execution_count": null,
   "id": "2acdcb78",
   "metadata": {},
   "outputs": [],
   "source": [
    "chrome_options = webdriver.ChromeOptions()\n",
    "\n",
    "settings = {\n",
    "    \"recentDestinations\": [{\n",
    "        \"id\": \"Save as PDF\",\n",
    "        \"origin\": \"local\",\n",
    "        \"account\": \"\"\n",
    "    }],\n",
    "    \"selectedDestinationId\": \"Save as PDF\",\n",
    "    \"version\": 2,\n",
    "    \"isHeaderFooterEnabled\": False,\n",
    "    \"scaling\": scale,\n",
    "    \"scalingType\": 3,\n",
    "}\n",
    "\n",
    "chrome_options.add_argument('--enable-print-browser')\n",
    "\n",
    "prefs = {\n",
    "    'printing.print_preview_sticky_settings.appState': json.dumps(settings),\n",
    "    'savefile.default_directory': output\n",
    "}\n",
    "chrome_options.add_argument('--kiosk-printing')\n",
    "chrome_options.add_experimental_option('prefs', prefs)\n",
    "\n",
    "for root, dirs, files in os.walk(source):\n",
    "    for filename in files:\n",
    "        if not filename.endswith(\".html\"):\n",
    "            continue\n",
    "        print(filename)\n",
    "        driver = webdriver.Chrome(chromedriver_path, options=chrome_options)\n",
    "        driver.get(f'file://{os.path.join(os.getcwd(), root, filename)}')\n",
    "        time.sleep(sleep)\n",
    "        driver.execute_script('window.print();')\n",
    "        driver.close()"
   ]
  },
  {
   "cell_type": "markdown",
   "id": "c62c76b7",
   "metadata": {},
   "source": [
    "Рекомендация:\n",
    "\n",
    "* PDF файлы сохраняются с названием, указанным в теге title исходного файла. Лучше добавить в него номер варианта, чтобы точно идентифицировать получаемые файлы."
   ]
  }
 ],
 "metadata": {
  "kernelspec": {
   "display_name": "Python 3 (ipykernel)",
   "language": "python",
   "name": "python3"
  },
  "language_info": {
   "codemirror_mode": {
    "name": "ipython",
    "version": 3
   },
   "file_extension": ".py",
   "mimetype": "text/x-python",
   "name": "python",
   "nbconvert_exporter": "python",
   "pygments_lexer": "ipython3",
   "version": "3.9.7"
  }
 },
 "nbformat": 4,
 "nbformat_minor": 5
}
